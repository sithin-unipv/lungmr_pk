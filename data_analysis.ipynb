{
 "cells": [
  {
   "cell_type": "code",
   "execution_count": 50,
   "id": "6a33ad39-d130-4634-bd35-4cd736aa7e8c",
   "metadata": {
    "tags": []
   },
   "outputs": [],
   "source": [
    "import os as os\n",
    "from tqdm import tqdm\n",
    "import matplotlib.pyplot as plt\n",
    "\n",
    "import SimpleITK as sitk\n",
    "import pydicom as pydicom\n",
    "\n",
    "import numpy as np\n",
    "import pandas as pd"
   ]
  },
  {
   "cell_type": "code",
   "execution_count": 51,
   "id": "b97fb7ac-bcf3-47df-aa97-01e56016448f",
   "metadata": {
    "tags": []
   },
   "outputs": [],
   "source": [
    "import re"
   ]
  },
  {
   "cell_type": "code",
   "execution_count": 52,
   "id": "8626a8b2-8d01-4d26-bacc-207e2c54938c",
   "metadata": {
    "tags": []
   },
   "outputs": [],
   "source": [
    "DATA_DIR = r\"/home/thulasiseetha/research/dataset/curated/LungMR/dce\"\n",
    "XL_PATH = r\"/home/thulasiseetha/research/dataset/raw/LungMR/Database RM polmone.csv\"\n",
    "PAT_RECORDS_FILE = r\"/home/thulasiseetha/research/sithin_projects/lungmr_curation/pat_records.npy\""
   ]
  },
  {
   "cell_type": "markdown",
   "id": "677b1642-ea94-4e32-ad19-ff7c268828a4",
   "metadata": {},
   "source": [
    "### Utils"
   ]
  },
  {
   "cell_type": "code",
   "execution_count": 53,
   "id": "cb9cc118-a4f8-4bdc-b83e-2199ced87cc4",
   "metadata": {
    "tags": []
   },
   "outputs": [],
   "source": [
    "def dcm_tag(attribute):\n",
    "    \n",
    "    tag = \"\"\n",
    "    \n",
    "    if attribute==\"pid\":\n",
    "        tag = \"0010|0020\"\n",
    "    elif attribute==\"age\":\n",
    "        tag = \"0010|1010\"\n",
    "    elif attribute==\"sex\":\n",
    "        tag = \"0010|0040\"\n",
    "    elif attribute==\"weight\":\n",
    "        tag = \"0010|1030\"\n",
    "    elif attribute==\"height\":\n",
    "        tag = \"0010|1020\"\n",
    "    elif attribute==\"contrast_agent\":\n",
    "        tag = \"0018|0010\"\n",
    "    elif attribute==\"slice_thickness\":\n",
    "        tag = \"0018|0050\"\n",
    "    elif attribute==\"TR\":\n",
    "        tag = \"0018|0080\"\n",
    "    elif attribute==\"TE\":\n",
    "        tag = \"0018|0081\"\n",
    "    elif attribute==\"FA\":\n",
    "        tag = \"0018|1314\"\n",
    "    elif attribute==\"manufacturer\":\n",
    "        tag = \"0008|0070\"\n",
    "    elif attribute==\"version\":\n",
    "        tag = \"0018|1020\"\n",
    "    elif attribute==\"field_strength\":\n",
    "        tag = \"0018|0087\"\n",
    "    else:\n",
    "        print(\"Not a valid tag\")\n",
    "        \n",
    "    assert tag!=\"\", \"invalid input attribute\"\n",
    "    \n",
    "    return tag"
   ]
  },
  {
   "cell_type": "markdown",
   "id": "bfdfac00-ae09-4305-b762-8bff99e3c8c7",
   "metadata": {},
   "source": [
    "### Data Statistics"
   ]
  },
  {
   "cell_type": "code",
   "execution_count": 54,
   "id": "af62ec98-7e24-4646-b3c7-4682b48c65ea",
   "metadata": {
    "tags": []
   },
   "outputs": [
    {
     "data": {
      "text/html": [
       "<div>\n",
       "<style scoped>\n",
       "    .dataframe tbody tr th:only-of-type {\n",
       "        vertical-align: middle;\n",
       "    }\n",
       "\n",
       "    .dataframe tbody tr th {\n",
       "        vertical-align: top;\n",
       "    }\n",
       "\n",
       "    .dataframe thead th {\n",
       "        text-align: right;\n",
       "    }\n",
       "</style>\n",
       "<table border=\"1\" class=\"dataframe\">\n",
       "  <thead>\n",
       "    <tr style=\"text-align: right;\">\n",
       "      <th></th>\n",
       "      <th>Patient ID</th>\n",
       "      <th>pazID</th>\n",
       "      <th>Espressione PD-L1</th>\n",
       "    </tr>\n",
       "  </thead>\n",
       "  <tbody>\n",
       "    <tr>\n",
       "      <th>0</th>\n",
       "      <td>2578679</td>\n",
       "      <td>paz1</td>\n",
       "      <td>90%</td>\n",
       "    </tr>\n",
       "    <tr>\n",
       "      <th>1</th>\n",
       "      <td>2769233</td>\n",
       "      <td>paz2</td>\n",
       "      <td>90%</td>\n",
       "    </tr>\n",
       "    <tr>\n",
       "      <th>2</th>\n",
       "      <td>2780061</td>\n",
       "      <td>paz3</td>\n",
       "      <td>&lt;1%</td>\n",
       "    </tr>\n",
       "    <tr>\n",
       "      <th>3</th>\n",
       "      <td>2442528</td>\n",
       "      <td>paz4</td>\n",
       "      <td>35%</td>\n",
       "    </tr>\n",
       "    <tr>\n",
       "      <th>4</th>\n",
       "      <td>1818594</td>\n",
       "      <td>paz5</td>\n",
       "      <td>&lt;1%</td>\n",
       "    </tr>\n",
       "  </tbody>\n",
       "</table>\n",
       "</div>"
      ],
      "text/plain": [
       "  Patient ID pazID Espressione PD-L1\n",
       "0    2578679  paz1               90%\n",
       "1    2769233  paz2               90%\n",
       "2    2780061  paz3               <1%\n",
       "3    2442528  paz4               35%\n",
       "4    1818594  paz5               <1%"
      ]
     },
     "execution_count": 54,
     "metadata": {},
     "output_type": "execute_result"
    }
   ],
   "source": [
    "df = pd.read_csv(XL_PATH)[[\"Patient ID\", \"pazID\", \"Espressione PD-L1\"]].dropna()\n",
    "df.head()"
   ]
  },
  {
   "cell_type": "code",
   "execution_count": 55,
   "id": "b2d2b964-cb03-47b4-a789-31e377acdd99",
   "metadata": {
    "tags": []
   },
   "outputs": [],
   "source": [
    "ref_df = df[[\"Patient ID\", \"pazID\"]]\n",
    "ref_map = dict(zip(ref_df[\"Patient ID\"].to_list(), ref_df.pazID.to_list()))\n",
    "inv_ref_map = dict(zip(ref_df[\"pazID\"].to_list(),ref_df[\"Patient ID\"].to_list()))\n",
    "\n",
    "pid_record_map = np.load(PAT_RECORDS_FILE, allow_pickle=True).item()"
   ]
  },
  {
   "cell_type": "code",
   "execution_count": 70,
   "id": "6d2fe4ef-9c7b-421a-aae1-490f8ba45d54",
   "metadata": {
    "tags": []
   },
   "outputs": [
    {
     "name": "stderr",
     "output_type": "stream",
     "text": [
      "parsing patient/acquisition info:  44%|████████████▋                | 17/39 [00:12<00:16,  1.31it/s]"
     ]
    },
    {
     "name": "stdout",
     "output_type": "stream",
     "text": [
      "contrast_agent not found for paz40\n"
     ]
    },
    {
     "name": "stderr",
     "output_type": "stream",
     "text": [
      "parsing patient/acquisition info:  51%|██████████████▊              | 20/39 [00:14<00:13,  1.37it/s]"
     ]
    },
    {
     "name": "stdout",
     "output_type": "stream",
     "text": [
      "ignoring paz23 because of missing pd-l1 expression info\n"
     ]
    },
    {
     "name": "stderr",
     "output_type": "stream",
     "text": [
      "parsing patient/acquisition info: 100%|█████████████████████████████| 39/39 [00:28<00:00,  1.37it/s]\n"
     ]
    }
   ],
   "source": [
    "stat_df = {\n",
    "    \"pid\":[], \"ref_id\":[], \"age\":[], \"sex\":[], \"weight\":[], \"height\":[], \"contrast_agent\":[], \"slice_thickness\":[], \"voxel_spacing\":[], \"img_matrix\":[], \"TR\":[], \"TE\":[], \n",
    "    \"FA\":[], \"FOV\":[], \"num_of_phases\":[], \"acquisition_period\":[], \"manufacturer\":[], \"version\":[], \"field_strength\":[], \"pdl1>=1%\":[], \"pdl1>=50%\":[]\n",
    "}\n",
    "\n",
    "ref_ids = os.listdir(os.path.join(DATA_DIR, \"images\"))\n",
    "\n",
    "for ref_id in tqdm(ref_ids, desc=\"parsing patient/acquisition info\"):\n",
    "    \n",
    "    if ref_id not in df.pazID.values:\n",
    "        print(f\"ignoring {ref_id} because of missing pd-l1 expression info\")\n",
    "        continue\n",
    "    \n",
    "    pid = inv_ref_map[ref_id]\n",
    "\n",
    "    dce_dict = pid_record_map[pid][\"dce\"]\n",
    "    acq_times = sorted(list(dce_dict))\n",
    "\n",
    "    series_id, _, series_dir = dce_dict[acq_times[0]]\n",
    "    \n",
    "    reader = sitk.ImageSeriesReader()\n",
    "    dcm_files = reader.GetGDCMSeriesFileNames(series_dir, series_id)\n",
    "    reader.SetFileNames(dcm_files)\n",
    "    image3D = reader.Execute()\n",
    "    \n",
    "    reader = sitk.ImageFileReader()\n",
    "    reader.SetFileName(dcm_files[0])\n",
    "    reader.LoadPrivateTagsOn()\n",
    "    \n",
    "    reader.ReadImageInformation()\n",
    "    \n",
    "    attributes = [\"pid\", \"age\", \"sex\", \"weight\", \"height\", \"contrast_agent\", \"slice_thickness\", \"TR\", \"TE\", \"FA\", \"manufacturer\", \"version\", \"field_strength\"]\n",
    "    for attribute in attributes:\n",
    "        try:\n",
    "            value = reader.GetMetaData(dcm_tag(attribute))  # Contrast agent name \n",
    "        except:\n",
    "            print(f\"{attribute} not found for {anonymous_pid}\")\n",
    "            value = np.nan\n",
    "            \n",
    "        stat_df[attribute].append(value)\n",
    "        \n",
    "\n",
    "    voxel_spacing = image3D.GetSpacing()  # Voxel Spacing\n",
    "    img_size = image3D.GetSize()  # Matrix Size\n",
    "    \n",
    "    stat_df[\"ref_id\"].append(ref_id)\n",
    "    stat_df[\"voxel_spacing\"].append(list(np.round(voxel_spacing,2)))\n",
    "    stat_df[\"img_matrix\"].append(list(img_size))\n",
    "    stat_df[\"FOV\"].append([np.round(i*j,2) for i,j in zip(img_size, voxel_spacing)])\n",
    "    stat_df[\"acquisition_period\"].append(np.round((float(max(acq_times))-float(min(acq_times)))/60,2))\n",
    "    stat_df[\"num_of_phases\"].append(len(acq_times))\n",
    "    \n",
    "    pdl1_expression = df[df.pazID==ref_id][\"Espressione PD-L1\"].item()\n",
    "    \n",
    "    offset = 0\n",
    "    if \">\" in pdl1_expression:\n",
    "        offset += 1\n",
    "    elif \"<\" in pdl1_expression:\n",
    "        offset -= 1\n",
    "    \n",
    "    pdl1_value = max([float(i)+offset for i in re.findall(r'\\d+', pdl1_expression)])\n",
    "    \n",
    "    label1 = 1 if pdl1_value>=1 else 0 #case1\n",
    "    label2 = 1 if pdl1_value>=50 else 0 #case2\n",
    "    \n",
    "    stat_df[\"pdl1>=1%\"].append(label1)\n",
    "    stat_df[\"pdl1>=50%\"].append(label2)\n",
    "\n",
    "\n",
    "    \n",
    "stat_df = pd.DataFrame.from_dict(stat_df)\n",
    "stat_df.head()\n",
    "    \n",
    "stat_df.to_csv(\"stat_df.csv\", index=False)"
   ]
  },
  {
   "cell_type": "code",
   "execution_count": 79,
   "id": "9ffbf25e-24b4-4d63-8206-167ea0376fed",
   "metadata": {
    "tags": []
   },
   "outputs": [
    {
     "name": "stdout",
     "output_type": "stream",
     "text": [
      "# of patients = 38\n"
     ]
    }
   ],
   "source": [
    "print(\"# of patients =\", len(stat_df.ref_id))"
   ]
  },
  {
   "cell_type": "code",
   "execution_count": 80,
   "id": "d1e52983-ccb5-4368-a035-436f8fc5b627",
   "metadata": {
    "tags": []
   },
   "outputs": [
    {
     "data": {
      "text/plain": [
       "0    13\n",
       "1    25\n",
       "Name: pdl1>=1%, dtype: int64"
      ]
     },
     "execution_count": 80,
     "metadata": {},
     "output_type": "execute_result"
    }
   ],
   "source": [
    "stat_df[\"pdl1>=1%\"].value_counts().sort_index()"
   ]
  },
  {
   "cell_type": "code",
   "execution_count": 81,
   "id": "9540fdea-4f32-4292-8584-95bbac7d5f3c",
   "metadata": {
    "tags": []
   },
   "outputs": [
    {
     "data": {
      "text/plain": [
       "0    25\n",
       "1    13\n",
       "Name: pdl1>=50%, dtype: int64"
      ]
     },
     "execution_count": 81,
     "metadata": {},
     "output_type": "execute_result"
    }
   ],
   "source": [
    "stat_df[\"pdl1>=50%\"].value_counts().sort_index()"
   ]
  },
  {
   "cell_type": "code",
   "execution_count": 82,
   "id": "782262dd-57fe-4e9f-8371-2295c59c9d9a",
   "metadata": {
    "tags": []
   },
   "outputs": [
    {
     "data": {
      "image/png": "[encoded data removed]",
      "text/plain": [
       "<Figure size 1000x1000 with 6 Axes>"
      ]
     },
     "metadata": {},
     "output_type": "display_data"
    }
   ],
   "source": [
    "fig, axs = plt.subplots(2, 3, figsize=(10, 10))\n",
    "\n",
    "axs[0,0].hist(np.array(stat_df.FOV.to_list())[:,0])\n",
    "axs[0,0].set_title(\"FOV_x\")\n",
    "axs[0,1].hist(np.array(stat_df.FOV.to_list())[:,1])\n",
    "axs[0,1].set_title(\"FOV_y\")\n",
    "axs[0,2].hist(np.array(stat_df.FOV.to_list())[:,2])\n",
    "axs[0,2].set_title(\"FOV_z\")\n",
    "axs[1, 0].hist(stat_df.TR)\n",
    "axs[1, 0].set_title(\"TR\")\n",
    "axs[1, 1].hist(stat_df.TE)\n",
    "axs[1,1].set_title(\"TE\")\n",
    "axs[1,2].hist(stat_df.acquisition_period)\n",
    "axs[1,2].set_title(\"Acquisition Period\")\n",
    "plt.show()"
   ]
  }
 ],
 "metadata": {
  "kernelspec": {
   "display_name": "Python 3 (ipykernel)",
   "language": "python",
   "name": "python3"
  },
  "language_info": {
   "codemirror_mode": {
    "name": "ipython",
    "version": 3
   },
   "file_extension": ".py",
   "mimetype": "text/x-python",
   "name": "python",
   "nbconvert_exporter": "python",
   "pygments_lexer": "ipython3",
   "version": "3.7.5"
  }
 },
 "nbformat": 4,
 "nbformat_minor": 5
}
